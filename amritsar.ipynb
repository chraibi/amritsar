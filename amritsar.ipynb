{
 "cells": [
  {
   "cell_type": "code",
   "execution_count": 59,
   "metadata": {},
   "outputs": [],
   "source": [
    "import jupedsim as jps\n",
    "import pedpy\n",
    "import read_geometry as rr\n",
    "from shapely import Polygon, to_wkt, Point, LinearRing\n",
    "import pathlib\n",
    "from numpy.random import normal\n",
    "import random\n",
    "import numpy as np\n",
    "from typing import List\n",
    "import matplotlib.pyplot as plt\n",
    "from jupedsim.internal.notebook_utils import animate, read_sqlite_file\n",
    "import random\n",
    "from joblib import Parallel, delayed\n",
    "from mpl_toolkits.axes_grid1 import make_axes_locatable\n",
    "import copy"
   ]
  },
  {
   "cell_type": "code",
   "execution_count": 3,
   "metadata": {},
   "outputs": [],
   "source": [
    "wkt = rr.parse_geo_file(\"./Jaleanwala_Bagh.xml\")"
   ]
  },
  {
   "cell_type": "code",
   "execution_count": 4,
   "metadata": {},
   "outputs": [],
   "source": [
    "# simulation might start with less than that, cause we will finlter out some bad positions\n",
    "walkable_area0 = wkt[0]\n",
    "holes = walkable_area0.interiors[1:]\n",
    "holes.append(LinearRing([(84, 90), (84, 87), (90, 87), (90, 90), (84, 90)]))\n",
    "walkable_area = Polygon(shell=walkable_area0.exterior, holes=holes)\n",
    "exit_areas = [\n",
    "    Polygon([(216, 124), (217.5, 124), (217.5, 123), (216, 123)]),\n",
    "    Polygon([(67, 116), (68.5, 116), (68.5, 115), (67, 115)]),\n",
    "    Polygon([(147, -7), (148.5, -7), (148.5, -6), (147, -6)]),\n",
    "    Polygon([(92, 0), (93.5, 0), (93.5, 1), (92, 1)]),\n",
    "    #Polygon(\n",
    "    #    [(213.326, 41.2927), (213.21, 39.7972), (212.21, 39.7972), (212.21, 41.2927)]\n",
    "    #),\n",
    "    Polygon( [(213.326, 46.2927), (213.21, 49.7972), (212.21, 49.7972), (212.21, 46.2927)]),\n",
    "]\n",
    "spawning_area = Polygon([(60, 99), (172, 99), (172, 11), (60, 11)])"
   ]
  },
  {
   "cell_type": "code",
   "execution_count": 5,
   "metadata": {},
   "outputs": [],
   "source": [
    "def distribute_agents(num_agents, seed):\n",
    "    threshold_distance = 0.5\n",
    "    pos_in_spawning_area = jps.distributions.distribute_by_number(\n",
    "        polygon=spawning_area,\n",
    "        number_of_agents=num_agents,\n",
    "        distance_to_agents=0.3,\n",
    "        distance_to_polygon=0.5,\n",
    "        seed=seed,\n",
    "    )\n",
    "    pos_in_spawning_area = [\n",
    "        point\n",
    "        for point in pos_in_spawning_area\n",
    "        if not any(\n",
    "            Polygon(hole).contains(Point(point))\n",
    "            or Polygon(hole).distance(Point(point)) < threshold_distance\n",
    "            for hole in holes\n",
    "        )\n",
    "    ]\n",
    "    return pos_in_spawning_area"
   ]
  },
  {
   "cell_type": "code",
   "execution_count": 6,
   "metadata": {},
   "outputs": [
    {
     "data": {
      "image/png": "[encoded data removed]",
      "text/plain": [
       "<Figure size 640x480 with 1 Axes>"
      ]
     },
     "metadata": {},
     "output_type": "display_data"
    }
   ],
   "source": [
    "def plot_simulation_configuration(\n",
    "    walkable_area, spawning_area, starting_positions, exit_areas\n",
    "):\n",
    "    axes = pedpy.plot_walkable_area(walkable_area=pedpy.WalkableArea(walkable_area))\n",
    "    axes.fill(*spawning_area.exterior.xy, color=\"lightgrey\", alpha=0.2)\n",
    "    for exit_area in exit_areas:\n",
    "        axes.fill(*exit_area.exterior.xy, color=\"indianred\")\n",
    "    axes.scatter(*zip(*starting_positions), s=1, alpha=0.7)\n",
    "    axes.set_xlabel(\"x/m\")\n",
    "    axes.set_ylabel(\"y/m\")\n",
    "    axes.set_aspect(\"equal\")\n",
    "\n",
    "pos_in_spawning_area = distribute_agents(num_agents=100,seed=1)\n",
    "plot_simulation_configuration(\n",
    "    walkable_area, spawning_area, pos_in_spawning_area, exit_areas\n",
    ")"
   ]
  },
  {
   "cell_type": "code",
   "execution_count": 48,
   "metadata": {},
   "outputs": [],
   "source": [
    "def calculate_probability(point, time_elapsed, lambda_decay, time_scale):\n",
    "    min_x, _, max_x, _ = walkable_area.bounds\n",
    "    distance_to_left = point.x - min_x\n",
    "    max_distance = max_x - min_x\n",
    "    distance_factor = distance_to_left / max_distance\n",
    "    normalized_time = time_elapsed / time_scale\n",
    "    distance_factor = 1 - np.exp(-2*(distance_to_left / max_distance))\n",
    "    probability = distance_factor * np.exp(-lambda_decay * normalized_time)\n",
    "    return probability"
   ]
  },
  {
   "cell_type": "code",
   "execution_count": 8,
   "metadata": {},
   "outputs": [],
   "source": [
    "def get_nearest_exit_id(\n",
    "    position: Point, exit_areas: List[Polygon], exit_ids: List[int]\n",
    ") -> int:\n",
    "    \"\"\"Returns the nearest exit to the position.\"\"\"\n",
    "    min_distance = float(\"inf\")\n",
    "    selected_exit_id = None\n",
    "    for exit_id, exit_area in zip(exit_ids, exit_areas):\n",
    "        distance = Point(position).distance(exit_area)\n",
    "        if distance < min_distance:\n",
    "            min_distance = distance\n",
    "            selected_exit_id = exit_id\n",
    "\n",
    "    return selected_exit_id"
   ]
  },
  {
   "cell_type": "code",
   "execution_count": 9,
   "metadata": {},
   "outputs": [],
   "source": [
    "def run_simulation(\n",
    "    time_scale,\n",
    "    lambda_decay,\n",
    "    update_time,\n",
    "    threshold,\n",
    "    v0_max,\n",
    "    seed,\n",
    "    walkable_area,\n",
    "    exit_areas,\n",
    "    num_agents,\n",
    "):\n",
    "    trajectory_file = f\"traj/trajectory_N{num_agents}_S{seed}_L{lambda_decay}.sqlite\"\n",
    "    pos_in_spawning_area = distribute_agents(num_agents=num_agents, seed=seed)\n",
    "    print(f\"lambda decay {lambda_decay}. num_agents: {len(pos_in_spawning_area)}\")\n",
    "    simulation = jps.Simulation(\n",
    "        model=jps.CollisionFreeSpeedModel(),\n",
    "        geometry=walkable_area,\n",
    "        dt=0.05,\n",
    "        trajectory_writer=jps.SqliteTrajectoryWriter(\n",
    "            output_file=pathlib.Path(trajectory_file)\n",
    "        ),\n",
    "    )\n",
    "\n",
    "    exit_ids = []\n",
    "    for exit_area in exit_areas:\n",
    "        exit_id = simulation.add_exit_stage(exit_area)\n",
    "        exit_ids.append(exit_id)\n",
    "\n",
    "    journey_id = simulation.add_journey(jps.JourneyDescription(exit_ids))\n",
    "    num_agents = len(pos_in_spawning_area)\n",
    "    v_distribution = normal(v0_max, 0.05, num_agents)\n",
    "    for pos, v0 in zip(pos_in_spawning_area, v_distribution):\n",
    "        simulation.add_agent(\n",
    "            jps.CollisionFreeSpeedModelAgentParameters(\n",
    "                journey_id=journey_id,\n",
    "                stage_id=get_nearest_exit_id(pos, exit_areas, exit_ids),\n",
    "                position=pos,\n",
    "                v0=v0,\n",
    "                radius=0.15,\n",
    "            )\n",
    "        )\n",
    "\n",
    "    time_elapsed = 0\n",
    "    simulation.elapsed_time()\n",
    "    dont_stop = True\n",
    "    while simulation.agent_count() > 0 and dont_stop:\n",
    "        simulation.iterate()\n",
    "        if simulation.elapsed_time() % update_time < 0.01:\n",
    "            # print(f\"Iteration: {simulation.iteration_count()}\")\n",
    "            dont_stop = False\n",
    "            for agent in simulation.agents():\n",
    "                prob = calculate_probability(\n",
    "                    Point(agent.position), time_elapsed, lambda_decay, time_scale\n",
    "                )\n",
    "                agent.model.v0 *= prob\n",
    "                if agent.model.v0 > threshold and not dont_stop:\n",
    "                    dont_stop = True\n",
    "                    # print(simulation.iteration_count(), agent.model.v0)\n",
    "\n",
    "    print(\n",
    "        f\"evacuation time: {simulation.iteration_count() * simulation.delta_time():.2f} s. Still in: {simulation.agent_count()}\"\n",
    "    )\n",
    "\n",
    "    return (\n",
    "        simulation.iteration_count() * simulation.delta_time(),\n",
    "        simulation.agent_count(),\n",
    "    )"
   ]
  },
  {
   "cell_type": "code",
   "execution_count": 11,
   "metadata": {},
   "outputs": [
    {
     "name": "stdout",
     "output_type": "stream",
     "text": [
      "lambda decay 1. num_agents: 47\n",
      "evacuation time: 38.35 s. Still in: 0\n"
     ]
    }
   ],
   "source": [
    "num_agents = 50\n",
    "time_scale = 600  # in seconds = 10 min of shooting\n",
    "update_time = 20  # in seconds\n",
    "speed_threshold = 0.1  #  below this is dead / m/s \n",
    "v0_max = 3  # m/s\n",
    "num_reps = 1\n",
    "evac_times = {}\n",
    "lambda_decays = [1]\n",
    "dead = {}\n",
    "\n",
    "for lambda_decay in lambda_decays:\n",
    "    res = Parallel(n_jobs=1)(\n",
    "        delayed(run_simulation)(\n",
    "            time_scale=time_scale,\n",
    "            lambda_decay=lambda_decay,\n",
    "            update_time=update_time,\n",
    "            threshold=speed_threshold,\n",
    "            v0_max=v0_max,\n",
    "            seed=random.randint(1, 10000),\n",
    "            walkable_area=walkable_area,\n",
    "            exit_areas=exit_areas,\n",
    "            num_agents=num_agents\n",
    "        )\n",
    "        for _ in range(num_reps)\n",
    "    )\n",
    "    res = np.array(res)\n",
    "    evac_times[lambda_decay] = res[:,0]\n",
    "    dead[lambda_decay] = res[:,1]\n"
   ]
  },
  {
   "cell_type": "code",
   "execution_count": null,
   "metadata": {},
   "outputs": [],
   "source": [
    "lambda_decays = [1, 5, 10]\n",
    "mean_evac_times = {scenario: np.mean(times) for scenario, times in evac_times.items()}\n",
    "std_dev_evac_times = {scenario: np.std(times) for scenario, times in evac_times.items()}\n",
    "\n",
    "mean_dead = {scenario: np.mean(dead) for scenario, dead in dead.items()}\n",
    "std_dead = {scenario: np.std(dead) for scenario, dead in dead.items()}\n",
    "\n",
    "means = [mean_evac_times[scenario] for scenario in lambda_decays]\n",
    "std_devs = [std_dev_evac_times[scenario] for scenario in lambda_decays]\n",
    "\n",
    "means1 = [mean_dead[scenario] for scenario in lambda_decays]\n",
    "std_devs1 = [std_dead[scenario] for scenario in lambda_decays]\n",
    "\n",
    "fig, (ax1, ax2) = plt.subplots(nrows=1, ncols=2)\n",
    "ax1.errorbar(lambda_decays, means, yerr=std_devs, fmt=\"o-\", ecolor=\"blue\")\n",
    "\n",
    "ax1.set_xlabel(\"lambda decay\")\n",
    "ax1.set_ylabel(\"max simulation time\")\n",
    "\n",
    "ax2.errorbar(lambda_decays, means1, yerr=std_devs1, fmt=\"o-\", ecolor=\"red\")\n",
    "ax2.set_xlabel(\"lambda decay\")\n",
    "ax2.set_ylabel(\"# dead people\")\n",
    "plt.tight_layout()\n",
    "plt.show()"
   ]
  },
  {
   "cell_type": "code",
   "execution_count": null,
   "metadata": {},
   "outputs": [],
   "source": [
    "# animate(trajectory_data, pedpy.WalkableArea(walkable_area))"
   ]
  },
  {
   "cell_type": "code",
   "execution_count": null,
   "metadata": {},
   "outputs": [],
   "source": [
    "# df = trajectory_data.data\n",
    "# # Step 1: Filter to the last frame\n",
    "# last_frame = df[\"frame\"].max()\n",
    "# last_frame_data = df[df[\"frame\"] == last_frame]\n",
    "# # Step 2: Check if each agent in the last frame is within the walkable area\n",
    "# # Assuming walkable_area is a Shapely Polygon\n",
    "\n",
    "# in_walkable_area = last_frame_data.apply(\n",
    "#     lambda row: walkable_area.contains(Point(row[\"x\"], row[\"y\"])), axis=1\n",
    "# )\n",
    "\n",
    "# # Step 3: Count the number of agents in the walkable area\n",
    "# agents_in_walkable_area = in_walkable_area.sum()\n",
    "# print(f\"Agents still in the area (probably dead by now): {agents_in_walkable_area}\")"
   ]
  },
  {
   "cell_type": "code",
   "execution_count": null,
   "metadata": {},
   "outputs": [],
   "source": [
    "polygon = Polygon([(0, 0), (10, 0), (10, 10), (0, 10)])\n",
    "\n",
    "\n",
    "# Function to generate a random point within a polygon\n",
    "def random_point_in_polygon(poly):\n",
    "    min_x, min_y, max_x, max_y = poly.bounds\n",
    "    while True:\n",
    "        point = Point(random.uniform(min_x, max_x), random.uniform(min_y, max_y))\n",
    "        if poly.contains(point):\n",
    "            return point\n",
    "\n",
    "\n",
    "# Distribute agents\n",
    "num_agents = 10\n",
    "lambda_decay = 3\n",
    "agents = [random_point_in_polygon(polygon) for _ in range(num_agents)]\n",
    "\n",
    "# Calculate initial probabilities\n",
    "time_elapsed = 0\n",
    "time_scale = 10 * 60  # in seconds\n",
    "probabilities0 = [\n",
    "    calculate_probability(agent, time_elapsed, lambda_decay, time_scale)\n",
    "    for agent in agents\n",
    "]\n",
    "\n",
    "# Update probabilities over time\n",
    "# For demonstration, let's say time_elapsed increases\n",
    "p = [probabilities0[0]]\n",
    "\n",
    "while time_elapsed < time_scale:\n",
    "    time_elapsed += 1  # Increment time\n",
    "    probabilities1 = [\n",
    "        calculate_probability(agent, time_elapsed, lambda_decay, time_scale)\n",
    "        for agent in agents\n",
    "    ]\n",
    "    p.append(probabilities1[0])\n",
    "\n",
    "# plt.plot(p,'.')"
   ]
  },
  {
   "cell_type": "code",
   "execution_count": 61,
   "metadata": {},
   "outputs": [
    {
     "name": "stderr",
     "output_type": "stream",
     "text": [
      "/var/folders/xp/t78pqmf50rb4s9vh6gdz0ykr0000gn/T/ipykernel_55709/2574586622.py:28: RuntimeWarning: More than 20 figures have been opened. Figures created through the pyplot interface (`matplotlib.pyplot.figure`) are retained until explicitly closed and may consume too much memory. (To control this warning, see the rcParam `figure.max_open_warning`). Consider using `matplotlib.pyplot.close()`.\n",
      "  plt.figure()\n"
     ]
    }
   ],
   "source": [
    "min_x, min_y, max_x, max_y = walkable_area.bounds\n",
    "\n",
    "# Grid resolution\n",
    "x_resolution = 100\n",
    "y_resolution = 100\n",
    "\n",
    "# Time points\n",
    "time_points = [1, 5, 10]  # Example time points\n",
    "# lambda_decay = 1  # Example lambda_decay value\n",
    "# time_scale = 5  # Example time_scale\n",
    "\n",
    "# Generate grid points\n",
    "x = np.linspace(min_x, max_x, x_resolution)\n",
    "y = np.linspace(min_y, max_y, y_resolution)\n",
    "xx, yy = np.meshgrid(x, y)\n",
    "grid_points = np.vstack((xx.flatten(), yy.flatten())).T\n",
    "\n",
    "lambda_decay = 0.5\n",
    "# Plotting heat maps\n",
    "for time in range(0, time_scale, 10):\n",
    "    probabilities = [\n",
    "        calculate_probability(Point(px, py), time, lambda_decay, time_scale)\n",
    "        if walkable_area.contains(Point(px,py)) else np.nan\n",
    "        for px, py in grid_points \n",
    "    ]\n",
    "    prob_matrix = np.reshape(probabilities, (x_resolution, y_resolution))\n",
    "\n",
    "    plt.figure()\n",
    "    ax = plt.gca()\n",
    "    cmap = copy.copy(plt.cm.jet_r)  # Or use any other colormap\n",
    "    cmap.set_bad(color='white')\n",
    "    im = ax.imshow(\n",
    "        prob_matrix,\n",
    "        extent=(min_x, max_x, min_y, max_y),\n",
    "        origin=\"lower\",\n",
    "        vmin=0,\n",
    "        vmax=1,\n",
    "        cmap=cmap,\n",
    "    )\n",
    "   \n",
    "    divider = make_axes_locatable(ax)\n",
    "    cax = divider.append_axes(\"right\", size=\"5%\", pad=0.15)\n",
    "    # colorbar(label='Probability')\n",
    "    plt.colorbar(im, cax=cax, label='Probability')\n",
    "    ax.set_title(f\"Time {time:03d} [s]\")\n",
    "    #plt.xlabel(\"X Coordinate\")\n",
    "    #plt.ylabel(\"Y Coordinate\")\n",
    "    plt.savefig(f\"png/heatmap_time_{time:03d}.png\")  # Save the figure"
   ]
  },
  {
   "cell_type": "code",
   "execution_count": 23,
   "metadata": {},
   "outputs": [
    {
     "name": "stdout",
     "output_type": "stream",
     "text": [
      "001\n"
     ]
    }
   ],
   "source": [
    "print(f\"{1:03d}\")"
   ]
  },
  {
   "cell_type": "code",
   "execution_count": 25,
   "metadata": {},
   "outputs": [
    {
     "data": {
      "text/plain": [
       "600"
      ]
     },
     "execution_count": 25,
     "metadata": {},
     "output_type": "execute_result"
    }
   ],
   "source": [
    "time_scale"
   ]
  },
  {
   "cell_type": "code",
   "execution_count": null,
   "metadata": {},
   "outputs": [],
   "source": []
  }
 ],
 "metadata": {
  "kernelspec": {
   "display_name": ".venv",
   "language": "python",
   "name": "python3"
  },
  "language_info": {
   "codemirror_mode": {
    "name": "ipython",
    "version": 3
   },
   "file_extension": ".py",
   "mimetype": "text/x-python",
   "name": "python",
   "nbconvert_exporter": "python",
   "pygments_lexer": "ipython3",
   "version": "3.10.12"
  }
 },
 "nbformat": 4,
 "nbformat_minor": 2
}
